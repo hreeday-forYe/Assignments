{
 "cells": [
  {
   "cell_type": "code",
   "execution_count": 39,
   "id": "344bdbb1-3d3e-4bed-95de-db6333f9ba91",
   "metadata": {},
   "outputs": [],
   "source": [
    "'''\n",
    "Q1. Explain Class and Object with respect to Object-Oriented Programming. Give a suitable example.\n",
    "'''\n",
    "# Answer--> class is the blueprint of creating object and object is nothing but an instance of that \n",
    "# class,  class is the pillar of creating the object Let's talk with an example we know what cars are \n",
    "# and we also know what types of properties and behaviours a car has like it has an steering wheel it has seats \n",
    "# it has color to it and its behavours can be like it can getStart, stopOnbrake and so on so these properties defines the \n",
    "# cars but it doen't define which specific car I am talking about so car is more like a generalize term we know what we\n",
    "# are talking is aboue cars but we don't know what type of car so car is like a class which is generalize and object \n",
    "# is like a specific type of car where we know what type of car we are talking about similarly to represent the real world \n",
    "# entity in the programming world\n",
    "\n",
    "class car:\n",
    "    def __init__(self, brand, cartype, model):\n",
    "        self.brand = brand\n",
    "        self.type = cartype\n",
    "        self.model = model\n",
    "    \n",
    "    def getStart(self):\n",
    "        return(\"car is started\")\n",
    "\n",
    "car1 = car(\"nisaan\", \"SUV\", \"nisaan 500\")\n",
    "\n",
    "# From the above example we can clearly see that the car class doesn't define anyting about what type of car\n",
    "# but it does gives the infrastructue for object car1 to talk about the specific type of car"
   ]
  },
  {
   "cell_type": "code",
   "execution_count": 41,
   "id": "b231d079-98e1-4f64-b107-95f5ae098c12",
   "metadata": {},
   "outputs": [],
   "source": [
    "'''\n",
    "Q2. Name the four pillars of OOPs.\n",
    "'''\n",
    "\n",
    "Four Pillars of OOPS are: \n",
    "1. Encapsulation\n",
    "2. Polymorphism\n",
    "3. Inheritance\n",
    "4. Abstraction"
   ]
  },
  {
   "cell_type": "code",
   "execution_count": 42,
   "id": "45b75879-7f1b-4be8-9356-a5545f537601",
   "metadata": {},
   "outputs": [
    {
     "data": {
      "text/plain": [
       "<__main__.person at 0x7f668f8ceb60>"
      ]
     },
     "execution_count": 42,
     "metadata": {},
     "output_type": "execute_result"
    }
   ],
   "source": [
    "'''\n",
    "Q3. Explain why the __init__() function is used. Give a suitable example.\n",
    "'''\n",
    "# The __intit__() function is used to pass the objects data which are the values needed before creating the object or that\n",
    "# stores information about the object it ensures all the data are present before passing them so it is called when an instance\n",
    "# of the class is created\n",
    "\n",
    "# Example of the __init__() function\n",
    "class person:\n",
    "    def __init__(self, name, age, gender):\n",
    "        self.name = name,\n",
    "        self.age = age,\n",
    "        self.gender = gender\n",
    "    def getInfo():\n",
    "        return self.name, self.age, self.gender\n",
    "\n",
    "# The above is the class named person which has the inti functon which accpets the name , age and gender of the person \n",
    "# when the instance of the class person is created to identify the object more properly with their attributes\n",
    "\n",
    "# This gives the power of addressing different object properties to the different instances\n",
    "\n",
    "# Instances\n",
    "person(\"John\", 12, \"Male\")\n",
    "person(\"Rekha\", 22, \"Female\")\n",
    "\n",
    "# Here the two differnet instances are created of class person which passes different values so both of these instance \n",
    "# will have different properties which will be accepted by __init__() function\n",
    "\n"
   ]
  },
  {
   "cell_type": "code",
   "execution_count": 43,
   "id": "d972ead8-9516-417a-a21e-54143a41066f",
   "metadata": {},
   "outputs": [
    {
     "name": "stdout",
     "output_type": "stream",
     "text": [
      "('John', 12, 'Male')\n"
     ]
    }
   ],
   "source": [
    "'''\n",
    "Q4. Why self is used in OOPs?\n",
    "'''\n",
    "# Self keyword is used to refer to the current instance of the class it is used to access the current value of \n",
    "# property and current behaviour of method for an object\n",
    "\n",
    "# Example of use of self keyword\n",
    "\n",
    "class person:\n",
    "    def __init__(self, name, age, gender):\n",
    "        self.name = name\n",
    "        self.age = age\n",
    "        self.gender = gender\n",
    "    def getInfo(self):\n",
    "        return self.name, self.age, self.gender\n",
    "\n",
    "person1 = person(\"John\",12, \"Male\")\n",
    "person2 = person(\"Jack\", 22, \"Others\")\n",
    "print(person1.getInfo())\n",
    "\n",
    "# for person1 the properties like name age and gender is different to person2  which is referred by our self keyword\n",
    "# after calling our getInfo method"
   ]
  },
  {
   "cell_type": "code",
   "execution_count": 44,
   "id": "fa720f5b-76f8-4c62-8df7-4c2b39b3e231",
   "metadata": {},
   "outputs": [
    {
     "name": "stdout",
     "output_type": "stream",
     "text": [
      "Raja can work\n",
      "Raja can eat\n",
      "kumar can eat\n",
      "kumar can work\n",
      "kumar can hire other people\n",
      "Bahadur can work hard\n",
      "Bahadur can work super hard \n",
      "Bahadur can eat\n"
     ]
    }
   ],
   "source": [
    "'''\n",
    "Q5. What is inheritance? Give an example for each type of inheritance.\n",
    "'''\n",
    "\n",
    "# Inheritance is the concept in oops which allows one class to inherit the properties and methods of one class to another class\n",
    "# The class inherting the methods and properties from another class is subclass and the class being inherited is called as the \n",
    "# super class\n",
    "\n",
    "# There are different types of inheritance in python single inheritance, \n",
    "# multiple inheritance, multi level inheritance\n",
    "\n",
    "\n",
    "\n",
    "class person:\n",
    "    def __init__(self, name, age, gender):\n",
    "        self.name = name\n",
    "        self.age = age\n",
    "        self.gender = gender\n",
    "        \n",
    "    def canEat(self):\n",
    "        print( self.name , \"can eat\")\n",
    "\n",
    "# Example of single Inheritance\n",
    "\n",
    "class employee(person):\n",
    "    def canwork(self):\n",
    "        print(self.name, 'can work')\n",
    "\n",
    "emp1 = employee(\"Raja\", 12, \"male\")\n",
    "emp1.canwork()\n",
    "emp1.canEat()\n",
    "\n",
    "# We can see that both the method of person and employee can be get with the help of instance of employee class cause\n",
    "# employee is the sub class of person which is single inheritance\n",
    "\n",
    "# Example of multilevel Inheritance\n",
    "\n",
    "class manager(employee):    \n",
    "    def canHire(self):\n",
    "        print(self.name, \"can hire other people\")\n",
    "        \n",
    "\n",
    "manager1 = manager(\"kumar\", 34, \"male\")\n",
    "manager1.canEat()\n",
    "manager1.canwork()\n",
    "manager1.canHire()\n",
    "\n",
    "# The abvoe is the example of multilevel inhertiance where the manager1 object can access the methods of both person \n",
    "# employee class\n",
    "\n",
    "\n",
    "# Multiple Inheritance Example----------------\n",
    "\n",
    "class workers():\n",
    "    def canWork(self):\n",
    "        print( self.name , \"can work hard\")\n",
    "        \n",
    "class superHardworkers(person, workers):\n",
    "    def canhardwork(self):\n",
    "        print( self.name, \"can work super hard \")\n",
    "\n",
    "sup1 = superHardworkers(\"Bahadur\", 22 , \"Male\")\n",
    "sup1.canWork()\n",
    "sup1.canhardwork()\n",
    "sup1.canEat()\n",
    "\n",
    "\n",
    "# the object of the class superHardworkers can inheritnace the properties from the class like workers and person \n",
    "# and access their methods"
   ]
  },
  {
   "cell_type": "code",
   "execution_count": null,
   "id": "5eb051d9-9c26-4c4c-9fac-9ee595fd0cda",
   "metadata": {},
   "outputs": [],
   "source": []
  }
 ],
 "metadata": {
  "kernelspec": {
   "display_name": "Python 3 (ipykernel)",
   "language": "python",
   "name": "python3"
  },
  "language_info": {
   "codemirror_mode": {
    "name": "ipython",
    "version": 3
   },
   "file_extension": ".py",
   "mimetype": "text/x-python",
   "name": "python",
   "nbconvert_exporter": "python",
   "pygments_lexer": "ipython3",
   "version": "3.10.8"
  }
 },
 "nbformat": 4,
 "nbformat_minor": 5
}
