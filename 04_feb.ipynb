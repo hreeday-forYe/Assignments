{
 "cells": [
  {
   "cell_type": "code",
   "execution_count": 1,
   "id": "86502efc-8a05-43ed-89ff-7990b9558445",
   "metadata": {},
   "outputs": [
    {
     "name": "stdout",
     "output_type": "stream",
     "text": [
      "[('Virat Kohli', 24936), ('Jack Kallis', 25534), ('Ricky Ponting', 27483), ('Sachin Tendulkar', 34357)]\n"
     ]
    }
   ],
   "source": [
    "'''\n",
    "Q1. Create a python program to sort the given list of tuples based on integer value using a\n",
    "lambda function.\n",
    "'''\n",
    "given_list = [('Sachin Tendulkar', 34357), ('Ricky Ponting', 27483), ('Jack Kallis', 25534), ('Virat Kohli', 24936)]\n",
    "\n",
    "\n",
    "\n",
    "# Sorting the list of tuples based on the integer value using a lambda function\n",
    "sorted_data = sorted(given_list, key=lambda x: x[1])\n",
    "\n",
    "print(sorted_data)"
   ]
  },
  {
   "cell_type": "code",
   "execution_count": 9,
   "id": "39e5f0d3-53e3-453f-8ab2-e8392703ef73",
   "metadata": {},
   "outputs": [
    {
     "data": {
      "text/plain": [
       "[1, 4, 9, 16, 25, 36, 49, 64, 81, 100]"
      ]
     },
     "execution_count": 9,
     "metadata": {},
     "output_type": "execute_result"
    }
   ],
   "source": [
    "'''\n",
    "Q2. Write a Python Program to find the squares of all the numbers in the given list of integers using\n",
    "lambda and map functions.\n",
    "[1, 2, 3, 4, 5, 6, 7, 8, 9, 10]\n",
    "'''\n",
    "numbers = [1,2,3,4,5,6,7,8,9,10]\n",
    "\n",
    "# Using the lambda functions\n",
    "list(map(lambda x : x **2 , numbers ))"
   ]
  },
  {
   "cell_type": "code",
   "execution_count": 10,
   "id": "05446887-5537-4e5c-982b-abd3256bf725",
   "metadata": {},
   "outputs": [
    {
     "data": {
      "text/plain": [
       "['1', '2', '3', '4', '5', '6', '7', '8', '9', '10']"
      ]
     },
     "execution_count": 10,
     "metadata": {},
     "output_type": "execute_result"
    }
   ],
   "source": [
    "'''\n",
    "Q3. Write a python program to convert the given list of integers into a tuple of strings. Use map and\n",
    "lambda functions\n",
    "Given String: [1, 2, 3, 4, 5, 6, 7, 8, 9, 10]\n",
    "Expected output: ('1', '2', '3', '4', '5', '6', '7', '8', '9', '10')\n",
    "'''\n",
    "\n",
    "given_list = [1,2,3,4,5,6,7,8,9,10]\n",
    "\n",
    "list(map(lambda x: str(x), numbers))"
   ]
  },
  {
   "cell_type": "code",
   "execution_count": 15,
   "id": "c9a44f39-beb0-4137-9330-eea27862e86d",
   "metadata": {},
   "outputs": [
    {
     "data": {
      "text/plain": [
       "15511210043330985984000000"
      ]
     },
     "execution_count": 15,
     "metadata": {},
     "output_type": "execute_result"
    }
   ],
   "source": [
    "'''\n",
    "Q4. Write a python program using reduce function to compute the product of a list containing numbers\n",
    "from 1 to 25.\n",
    "'''\n",
    "from functools import reduce\n",
    "\n",
    "result = reduce(lambda x, y: x * y , list(range(1, 26)))\n",
    "result "
   ]
  },
  {
   "cell_type": "code",
   "execution_count": 17,
   "id": "d885752e-644c-474d-91fe-880dfd5fbf92",
   "metadata": {},
   "outputs": [
    {
     "data": {
      "text/plain": [
       "[6, 60, 90, 120]"
      ]
     },
     "execution_count": 17,
     "metadata": {},
     "output_type": "execute_result"
    }
   ],
   "source": [
    "'''\n",
    "Q5. Write a python program to filter the numbers in a given list that are divisible by 2 and 3 using the\n",
    "filter function.\n",
    "[2, 3, 6, 9, 27, 60, 90, 120, 55, 46]\n",
    "'''\n",
    "\n",
    "givenList =[2, 3, 6, 9, 27, 60, 90, 120, 55, 46]\n",
    "\n",
    "data = list(filter(lambda x: x%2 == 0 and x %3 == 0, givenList))\n",
    "data\n"
   ]
  },
  {
   "cell_type": "code",
   "execution_count": 18,
   "id": "2a047acb-0d91-4c4d-b11b-09c99c5db64e",
   "metadata": {},
   "outputs": [
    {
     "data": {
      "text/plain": [
       "['php', 'aba', 'radar', 'level']"
      ]
     },
     "execution_count": 18,
     "metadata": {},
     "output_type": "execute_result"
    }
   ],
   "source": [
    "'''\n",
    "Q6. Write a python program to find palindromes in the given list of strings using lambda and filter\n",
    "function.\n",
    "['python', 'php', 'aba', 'radar', 'level']\n",
    "'''\n",
    "\n",
    "data = ['python', 'php', 'aba', 'radar', 'level']\n",
    "\n",
    "result = filter(lambda x: x == x[::-1],data)\n",
    "list(result)"
   ]
  },
  {
   "cell_type": "code",
   "execution_count": 2,
   "id": "1e18cab2-aeab-4f25-866a-5b57c1ce959e",
   "metadata": {},
   "outputs": [
    {
     "data": {
      "text/plain": [
       "[13, 1242, 12423, 12431]"
      ]
     },
     "execution_count": 2,
     "metadata": {},
     "output_type": "execute_result"
    }
   ],
   "source": [
    "sorted([12431,12423,1242,13])"
   ]
  },
  {
   "cell_type": "code",
   "execution_count": null,
   "id": "eadbcae3-cb15-46d8-8c49-384d9828fd8c",
   "metadata": {},
   "outputs": [],
   "source": []
  }
 ],
 "metadata": {
  "kernelspec": {
   "display_name": "Python 3 (ipykernel)",
   "language": "python",
   "name": "python3"
  },
  "language_info": {
   "codemirror_mode": {
    "name": "ipython",
    "version": 3
   },
   "file_extension": ".py",
   "mimetype": "text/x-python",
   "name": "python",
   "nbconvert_exporter": "python",
   "pygments_lexer": "ipython3",
   "version": "3.10.8"
  }
 },
 "nbformat": 4,
 "nbformat_minor": 5
}
