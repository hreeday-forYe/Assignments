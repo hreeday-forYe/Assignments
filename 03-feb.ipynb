{
 "cells": [
  {
   "cell_type": "code",
   "execution_count": 2,
   "id": "cb02bcd6-29ed-4499-8060-d584af2db009",
   "metadata": {},
   "outputs": [],
   "source": [
    "'''\n",
    "Q1. Which keyword is used to create a function? Create a function to return a list of odd numbers in the\n",
    "range of 1 to 25.\n",
    "'''\n",
    "# Answer--> \n",
    "#  def keyword is used to create a function in python \n",
    "# function to return a list of odd numbers in the range of 1 to 25 is created below: \n",
    "def oddNum():\n",
    "    l1= []\n",
    "    for i in range(1,25):\n",
    "        if i % 2 !=0:\n",
    "            l1.append(i)\n",
    "    return l1"
   ]
  },
  {
   "cell_type": "code",
   "execution_count": 3,
   "id": "924cc37d-eb7b-464e-b1da-0409b8c1dd98",
   "metadata": {},
   "outputs": [
    {
     "data": {
      "text/plain": [
       "[1, 3, 5, 7, 9, 11, 13, 15, 17, 19, 21, 23]"
      ]
     },
     "execution_count": 3,
     "metadata": {},
     "output_type": "execute_result"
    }
   ],
   "source": [
    "oddNum()"
   ]
  },
  {
   "cell_type": "code",
   "execution_count": 44,
   "id": "eae3cae4-78de-49e0-9c3e-6667d56dbe85",
   "metadata": {},
   "outputs": [
    {
     "name": "stdout",
     "output_type": "stream",
     "text": [
      "(12, 21, 23, 143)\n",
      "<class 'tuple'>\n",
      "The product of those numbers are: \n",
      "Student Details: \n",
      " name: Raja Ram\n",
      " age: 22\n",
      " phoneNumber: 982324221\n",
      " course: Data Science Masters\n",
      "Student Details: \n",
      " name: Raja Ram\n",
      " age: 22\n",
      " phoneNumber: 982324221\n",
      " course: Data Science Masters\n",
      " email: kaji@gmail.com\n"
     ]
    }
   ],
   "source": [
    "'''\n",
    "Q2. Why *args and **kwargs is used in some functions? Create a function each for *args and **kwargs\n",
    "to demonstrate their use.\n",
    "'''\n",
    "# Answer --> There are some cases in programming where we don't know the number of parameters to take in the function in such cases \n",
    "# *args are used similary we went to pass the key and valyue as an parameters to our function we use the **kwargs both has their own\n",
    "# advantages\n",
    "\n",
    "# --------------------Example to demonstrate the use of *args-----------------------\n",
    "# lets say you have a function which takes n numbers and returns their multiplication where you don't know how many values you \n",
    "# may recieve from the user in such cases use user *args in our function\n",
    "\n",
    "def product(*numbers):\n",
    "    # print(numbers)\n",
    "    # print(type(numbers))\n",
    "    product = 1\n",
    "    for i in numbers:\n",
    "        product *= i\n",
    "    print(\"The product of those numbers are: \")\n",
    "    return product\n",
    "\n",
    "product(12,21,23,143)\n",
    "\n",
    "# Here in calling the function product we pass the numbers we want to send here we can send any number of numbers and\n",
    "# it will work cause in the parameter *numbers this will take all the numbers as a tuple and inside the function \n",
    "# we loop over that tuple to find the product ot those numbers\n",
    "\n",
    "\n",
    "\n",
    "# -----------------------Example to demonstrate the use of **kwargs---------------------\n",
    "# **kwargs helps us to get any number of parameters in the form of key and value\n",
    "\n",
    "def stdDetails(**students):\n",
    "    print(\"Student Details: \")\n",
    "    for key, value in students.items():\n",
    "        print(f\" {key}: {value}\")\n",
    "stdDetails(name=\"Raja Ram\", age = 22, phoneNumber = 982324221, course = \"Data Science Masters\")\n",
    "\n",
    "# So the above function takes **students as the **kwargs parameters which then takes the details of the studens in the form \n",
    "# of key and value the key and value can be of any number their may be additional detail os the student we want to add like\n",
    "# email we can add that easily by simpl adding the email and its value\n",
    "\n",
    "stdDetails(name=\"Raja Ram\", age = 22, phoneNumber = 982324221, course = \"Data Science Masters\", email = \"kaji@gmail.com\")"
   ]
  },
  {
   "cell_type": "code",
   "execution_count": 13,
   "id": "9d96359f-aa4d-48b5-a903-ef91f8ebf833",
   "metadata": {},
   "outputs": [
    {
     "name": "stdout",
     "output_type": "stream",
     "text": [
      "2\n",
      "4\n",
      "6\n",
      "8\n",
      "10\n"
     ]
    }
   ],
   "source": [
    "'''\n",
    "Q3. What is an iterator in python? Name the method used to initialise the iterator object and the method\n",
    "used for iteration. Use these methods to print the first five elements of the given list [2, 4, 6, 8, 10, 12, 14,\n",
    "16, 18, 20].\n",
    "'''\n",
    "\n",
    "# In simple word iterator is an object in python whcih allows us to iterate over collections of data such as list,\n",
    "# tuples , dictionaries and sets one at a time\n",
    "# To initialise the iterator object we can use the iter() function which will take the iterables like strings and list and \n",
    "# returns as an iterables and we use the method next() for iteration of that iterables\n",
    "\n",
    "# to print the first five elements of the given list \n",
    "l = [2,4,6,8,10,12,14,16,18,20]\n",
    "\n",
    "# converting our iterables to iterators\n",
    "l = iter(l)\n",
    "\n",
    "# printing the first 5 elements of the list\n",
    "for i in range(5):\n",
    "    print(next(l))"
   ]
  },
  {
   "cell_type": "code",
   "execution_count": 20,
   "id": "9c6f1eb5-f9a8-4bf9-b8dd-030ac3a664ae",
   "metadata": {},
   "outputs": [
    {
     "name": "stdout",
     "output_type": "stream",
     "text": [
      "144\n",
      "169\n",
      "19881\n"
     ]
    }
   ],
   "source": [
    "'''Q4. What is a generator function in python? Why yield keyword is used? Give an example of a generator\n",
    "function.'''\n",
    "\n",
    "# Answer--> Generator function is tanother type of function in python which uses the yield keyword instead of the return\n",
    "# keyword which gives the outcome on by one instead of storing it in one place and consuming our main memory\n",
    "# let say our function return a list with 1000 elements\n",
    "# our Normal function will create a list in main memory store 1000 elements in it and returns that list \n",
    "# which is heavy load for our processing \n",
    "# On other hand Generators function yeild the elments one by one which will make the element easier to complie and product\n",
    "# result\n",
    "\n",
    "# EXAMPLE OF GENERATOR FUNCTION\n",
    "def cube(num):\n",
    "    for i in num:\n",
    "        yield i ** 2\n",
    "        \n",
    "cube_num = cube([12,13,141])\n",
    "\n",
    "for i in cube_num:\n",
    "    print(i)\n",
    "    "
   ]
  },
  {
   "cell_type": "code",
   "execution_count": 33,
   "id": "5801f783-f947-4250-87a9-bfdda60355ab",
   "metadata": {},
   "outputs": [
    {
     "name": "stdout",
     "output_type": "stream",
     "text": [
      "2\n",
      "3\n",
      "5\n",
      "7\n",
      "11\n",
      "13\n",
      "17\n",
      "19\n",
      "23\n",
      "29\n",
      "31\n",
      "37\n",
      "41\n",
      "43\n",
      "47\n",
      "53\n",
      "59\n",
      "61\n",
      "67\n",
      "71\n"
     ]
    }
   ],
   "source": [
    "'''\n",
    "Q5\n",
    "Create a generator function for prime numbers less than 1000. Use the next() method to print the\n",
    "first 20 prime numbers.\n",
    "'''\n",
    "def primeNumbers():\n",
    "    for i in range(2, 1000):\n",
    "        count = 0  # Reset count for each number\n",
    "\n",
    "        for j in range(1, i + 1):\n",
    "            if i % j == 0:\n",
    "                count += 1\n",
    "\n",
    "        if count == 2:\n",
    "            yield i\n",
    "\n",
    "prime = primeNumbers()\n",
    "\n",
    "for _ in range(20):\n",
    "    print(next(prime))\n"
   ]
  },
  {
   "cell_type": "code",
   "execution_count": 35,
   "id": "2a5c516f-f09a-4063-bb17-c72b1a06d6ea",
   "metadata": {},
   "outputs": [
    {
     "name": "stdout",
     "output_type": "stream",
     "text": [
      "0\n",
      "1\n",
      "1\n",
      "2\n",
      "3\n",
      "5\n",
      "8\n",
      "13\n",
      "21\n",
      "34\n"
     ]
    }
   ],
   "source": [
    "'''\n",
    "Q6. Write a python program to print the first 10 Fibonacci numbers using a while loop.\n",
    "'''\n",
    "i =1\n",
    "a= 0\n",
    "b = 1\n",
    "while i <= 10:\n",
    "    print(a)\n",
    "    c =a +b\n",
    "    a = b\n",
    "    b =c\n",
    "    i +=1"
   ]
  },
  {
   "cell_type": "code",
   "execution_count": 36,
   "id": "2fdd0a14-4b9a-40b7-ae84-b75048703976",
   "metadata": {},
   "outputs": [],
   "source": [
    "'''\n",
    "Q7. Write a List Comprehension to iterate through the given string: ‘pwskills’.\n",
    "Expected output: ['p', 'w', 's', 'k', 'i', 'l', 'l', 's']\n",
    "'''\n",
    "l = [i for i in \"pwskills\"]"
   ]
  },
  {
   "cell_type": "code",
   "execution_count": 37,
   "id": "3e04ac28-ca00-4d6e-8a09-8eca5ef9da04",
   "metadata": {},
   "outputs": [
    {
     "data": {
      "text/plain": [
       "['p', 'w', 's', 'k', 'i', 'l', 'l', 's']"
      ]
     },
     "execution_count": 37,
     "metadata": {},
     "output_type": "execute_result"
    }
   ],
   "source": [
    "l"
   ]
  },
  {
   "cell_type": "code",
   "execution_count": 38,
   "id": "c12fc627-4ccc-48c8-a769-3d12f47ce85a",
   "metadata": {},
   "outputs": [
    {
     "name": "stdin",
     "output_type": "stream",
     "text": [
      "Enter a number:  212\n"
     ]
    },
    {
     "name": "stdout",
     "output_type": "stream",
     "text": [
      "The number is a palindrome.\n"
     ]
    }
   ],
   "source": [
    "'''\n",
    "Q8. Write a python program to check whether a given number is Palindrome or not using a while loop.\n",
    "'''\n",
    "num = int(input(\"Enter a number: \"))\n",
    "original_num = num\n",
    "reverse_num = 0\n",
    "\n",
    "while num > 0:\n",
    "    remainder = num % 10\n",
    "    reverse_num = reverse_num * 10 + remainder\n",
    "    num = num // 10\n",
    "\n",
    "if original_num == reverse_num:\n",
    "    print(\"The number is a palindrome.\")\n",
    "else:\n",
    "    print(\"The number is not a palindrome.\")\n"
   ]
  },
  {
   "cell_type": "code",
   "execution_count": 43,
   "id": "9626ec06-e114-4bfc-b2a3-e6bb7f0465d3",
   "metadata": {},
   "outputs": [
    {
     "data": {
      "text/plain": [
       "[1,\n",
       " 3,\n",
       " 5,\n",
       " 7,\n",
       " 9,\n",
       " 11,\n",
       " 13,\n",
       " 15,\n",
       " 17,\n",
       " 19,\n",
       " 21,\n",
       " 23,\n",
       " 25,\n",
       " 27,\n",
       " 29,\n",
       " 31,\n",
       " 33,\n",
       " 35,\n",
       " 37,\n",
       " 39,\n",
       " 41,\n",
       " 43,\n",
       " 45,\n",
       " 47,\n",
       " 49,\n",
       " 51,\n",
       " 53,\n",
       " 55,\n",
       " 57,\n",
       " 59,\n",
       " 61,\n",
       " 63,\n",
       " 65,\n",
       " 67,\n",
       " 69,\n",
       " 71,\n",
       " 73,\n",
       " 75,\n",
       " 77,\n",
       " 79,\n",
       " 81,\n",
       " 83,\n",
       " 85,\n",
       " 87,\n",
       " 89,\n",
       " 91,\n",
       " 93,\n",
       " 95,\n",
       " 97,\n",
       " 99]"
      ]
     },
     "execution_count": 43,
     "metadata": {},
     "output_type": "execute_result"
    }
   ],
   "source": [
    "'''\n",
    "Q9. Write a code to print odd numbers from 1 to 100 using list comprehension.\n",
    "Note: Use a list comprehension to create a list from 1 to 100 and use another List comprehension to filter\n",
    "out odd numbers.\n",
    "'''\n",
    "\n",
    "l = [i for i in range(1, 101)]\n",
    "\n",
    "def oddNumbers(num):\n",
    "    return num %2 !=0\n",
    "\n",
    "list(filter(oddNumbers, l))\n"
   ]
  },
  {
   "cell_type": "code",
   "execution_count": null,
   "id": "e649b589-490f-4a4c-b67d-48ddc57d7aec",
   "metadata": {},
   "outputs": [],
   "source": []
  }
 ],
 "metadata": {
  "kernelspec": {
   "display_name": "Python 3 (ipykernel)",
   "language": "python",
   "name": "python3"
  },
  "language_info": {
   "codemirror_mode": {
    "name": "ipython",
    "version": 3
   },
   "file_extension": ".py",
   "mimetype": "text/x-python",
   "name": "python",
   "nbconvert_exporter": "python",
   "pygments_lexer": "ipython3",
   "version": "3.10.8"
  }
 },
 "nbformat": 4,
 "nbformat_minor": 5
}
