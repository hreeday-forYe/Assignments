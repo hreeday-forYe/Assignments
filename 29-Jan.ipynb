{
 "cells": [
  {
   "cell_type": "code",
   "execution_count": null,
   "id": "94043c12-a2d2-4bf7-9ab6-5d0f51a317aa",
   "metadata": {},
   "outputs": [],
   "source": [
    "Question 1\n",
    "Answer: Guido Van Rossum in early 1990s"
   ]
  },
  {
   "cell_type": "code",
   "execution_count": null,
   "id": "ee86efd4-99b8-468b-89de-94fc976c2562",
   "metadata": {},
   "outputs": [],
   "source": [
    "Question 2\n",
    "Answer: Python Supports various types of programming which includes object oriented programming, functional programming, \n",
    "procedural programming and event driven programming"
   ]
  },
  {
   "cell_type": "code",
   "execution_count": null,
   "id": "09cd039a-de51-4477-a87a-75e6d19b3340",
   "metadata": {},
   "outputs": [],
   "source": [
    "Question 3\n",
    "Answer: Yes, Python is a case sensitive language when declaring vairables, functions and classes"
   ]
  },
  {
   "cell_type": "code",
   "execution_count": null,
   "id": "b035d267-4a49-48ef-b840-e92d3e090737",
   "metadata": {},
   "outputs": [],
   "source": [
    "Question 4\n",
    "Answer: The correct extension of the python file is .py "
   ]
  },
  {
   "cell_type": "code",
   "execution_count": null,
   "id": "cb13e80b-933d-45cc-8b09-30ac8bc609cc",
   "metadata": {},
   "outputs": [],
   "source": [
    "Question 5\n",
    "Answer: Python is an interpreted Programming language"
   ]
  },
  {
   "cell_type": "code",
   "execution_count": null,
   "id": "c59ecafd-5d88-4b83-b94b-d16c7b576860",
   "metadata": {},
   "outputs": [],
   "source": [
    "Question 6\n",
    "Answer: Some blocks of code used to define in python: --> name = \"sam\", age= 12, print(\"hello sam\") "
   ]
  },
  {
   "cell_type": "code",
   "execution_count": null,
   "id": "f6345954-b22c-409a-8855-07b100e0229e",
   "metadata": {},
   "outputs": [],
   "source": [
    "Question 7\n",
    "Answer: To give the single line commment in python we can use  \"#\" character Eg: # This is an commnet "
   ]
  },
  {
   "cell_type": "code",
   "execution_count": null,
   "id": "60ca0bd2-dbd6-474b-9f09-44058c954f65",
   "metadata": {},
   "outputs": [],
   "source": [
    "Question 8\n",
    "Answer: To find the version of python we are working on we can use python --version command on our command prompt \n",
    "and to fine the version of the python on jupyter notebook we can use python_version() function from platform module"
   ]
  },
  {
   "cell_type": "code",
   "execution_count": null,
   "id": "8f4f1f63-8657-4365-a574-2438596c831b",
   "metadata": {},
   "outputs": [],
   "source": [
    "Question 9\n",
    "Answer: Lambda Functions"
   ]
  },
  {
   "cell_type": "code",
   "execution_count": null,
   "id": "1c81b812-882b-499a-a05f-dd25a4259ec8",
   "metadata": {},
   "outputs": [],
   "source": [
    "Question 10\n",
    "Answer: PIP stands for \"PIP Install Packages\". It is also called as \"Python package installer\" "
   ]
  },
  {
   "cell_type": "code",
   "execution_count": null,
   "id": "a9689de5-32fa-41f5-ba6e-0f19e8bf7461",
   "metadata": {},
   "outputs": [],
   "source": [
    "Question 11\n",
    "Answer: Few inbuilt functions in python are: print(), len(), type(), input(), int(), str()"
   ]
  },
  {
   "cell_type": "code",
   "execution_count": null,
   "id": "a70598ad-e842-4563-a33d-12ddc17ed861",
   "metadata": {},
   "outputs": [],
   "source": [
    "Question 12\n",
    "Answer: There is no specified length for an indentifier in python however we should keep it simple and more informative"
   ]
  },
  {
   "cell_type": "code",
   "execution_count": null,
   "id": "5d869db5-7d3f-43b6-9ccc-6eb80d00e799",
   "metadata": {},
   "outputs": [],
   "source": [
    "Question 13\n",
    "Answer: Some benefits of using python are: \n",
    "    1: Easy to Learn\n",
    "    2: Wide range of libraries \n",
    "    3: Massive support commuity\n",
    "    4: Used in various fields like web development, data science \n",
    "    5: Python code can run on multiple Platforms"
   ]
  },
  {
   "cell_type": "code",
   "execution_count": null,
   "id": "3be61468-4db3-4511-94a6-6d33e0f9d5a5",
   "metadata": {},
   "outputs": [],
   "source": [
    "Question 14\n",
    "Answer: In python memory is automatically managed by python memory manager which uses technique of garbage collection \n",
    "to detect and free up the memroy which is no longer needed by the program"
   ]
  },
  {
   "cell_type": "code",
   "execution_count": null,
   "id": "5264178a-2e46-4a08-bf63-d7f1f5d00435",
   "metadata": {},
   "outputs": [],
   "source": [
    "Question 15\n",
    "Answer: To install python we can search on our browser \"install python for windows\" and go to the python.org website \n",
    "click the download button and our download will be started \n",
    "once the download is complete we can go to our downloads folder double click the downloaded file \n",
    "and a screen pops up on the bottom right corner we can see the \"Add python to path\" check the box \n",
    "and click install now it will ask for the admin premission grant it and our python will be installed successfully\n",
    "TO c"
   ]
  },
  {
   "cell_type": "code",
   "execution_count": null,
   "id": "6a59172b-d9f2-4a69-961d-a96bcee397dd",
   "metadata": {},
   "outputs": [],
   "source": [
    "Question 16\n",
    "Answer: Yes indentation is required in python which helps us specify the blocks of code we write"
   ]
  }
 ],
 "metadata": {
  "kernelspec": {
   "display_name": "Python 3 (ipykernel)",
   "language": "python",
   "name": "python3"
  },
  "language_info": {
   "codemirror_mode": {
    "name": "ipython",
    "version": 3
   },
   "file_extension": ".py",
   "mimetype": "text/x-python",
   "name": "python",
   "nbconvert_exporter": "python",
   "pygments_lexer": "ipython3",
   "version": "3.10.8"
  }
 },
 "nbformat": 4,
 "nbformat_minor": 5
}
