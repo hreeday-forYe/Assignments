{
 "cells": [
  {
   "cell_type": "code",
   "execution_count": 2,
   "id": "e517eb31-ccd6-487b-89bb-081cddacb7d7",
   "metadata": {},
   "outputs": [
    {
     "name": "stdout",
     "output_type": "stream",
     "text": [
      "The product of all the numeric values in the given list is:  59227361237697261325516800\n"
     ]
    }
   ],
   "source": [
    "'''\n",
    "Q1. Create a function which will take a list as an argument and return the product of all the numbers\n",
    "after creating a flat list.\n",
    "\n",
    "Use the below-given list as an argument for your function.\n",
    "list1 = [1,2,3,4, [44,55,66, True], False, (34,56,78,89,34), {1,2,3,3,2,1}, {1:34, \"key2\": [55, 67, 78, 89], 4: (45,\n",
    "22, 61, 34)}, [56, 'data science'], 'Machine Learning']\n",
    "Note: you must extract numeric keys and values of the dictionary also.\n",
    "'''\n",
    "\n",
    "list1 = [1,2,3,4, [44,55,66, True], False, (34,56,78,89,34), {1,2,3,3,2,1}, {1:34, \"key2\": [55, 67, 78, 89], 4: (45, 22, 61, 34)}, [56, 'data science'], 'Machine Learning']\n",
    "\n",
    "\n",
    "def productOfNum(numbers):\n",
    "    product = 1\n",
    "    for i in numbers:\n",
    "        if type(i) == int:\n",
    "            product = product * i\n",
    "        elif type(i) == list or type(i) == tuple or type(i) == set:\n",
    "            for j in i:\n",
    "                if type(j) == int:\n",
    "                    product = product * j\n",
    "        elif type(i) == dict:\n",
    "            for key, value in i.items():\n",
    "                if type(key) == int:\n",
    "                    product = product * key\n",
    "                elif type(value) == int:\n",
    "                    product = product * value\n",
    "                elif type(value) == list or type(value) == tuple or type(value) == set:\n",
    "                    for k in value:\n",
    "                        if type(k) == int:\n",
    "                            product = product * k\n",
    "                else:\n",
    "                    pass\n",
    "    return product\n",
    "\n",
    "finalResult = productOfNum(list1)\n",
    "\n",
    "print(\"The product of all the numeric values in the given list is: \", finalResult)\n",
    "\n",
    "\n"
   ]
  },
  {
   "cell_type": "code",
   "execution_count": 5,
   "id": "6624c450-e816-41c0-9928-a695fbfe86c3",
   "metadata": {},
   "outputs": [
    {
     "name": "stdout",
     "output_type": "stream",
     "text": [
      "The given sentence is :  i want to become a data scientist.\n",
      "The encrypted Sentence is :  r$dzmg$gl$yvxlnv$z$wzgz$hxrvmgrhg.\n"
     ]
    }
   ],
   "source": [
    "'''\n",
    " Q2. Write a python program for encrypting a message sent to you by your friend. The logic of encryption\n",
    " should be such that, for a the output should be z. For b, the output should be y. For c, the output should\n",
    " be x respectively. Also, the whitespace should be replaced with a dollar sign. Keep the punctuation\n",
    " marks unchanged.\n",
    " Input Sentence: I want to become a Data Scientist.\n",
    " Encrypt the above input sentence using the program you just created.\n",
    " Note: Convert the given input sentence into lowercase before encrypting. The final output should be\n",
    " lowercase.\n",
    "'''\n",
    "\n",
    "sentence = \"I want to become a Data Scientist.\"\n",
    "sentence = sentence.lower()\n",
    "print(\"The given sentence is : \", sentence)\n",
    "\n",
    "def encrypt(sentence):\n",
    "    encryptedSentence = \"\"\n",
    "    for char in sentence:\n",
    "        if char.isalpha():\n",
    "            encryptedSentence += chr(219 - ord(char))\n",
    "        elif char.isspace():\n",
    "            encryptedSentence += \"$\"\n",
    "        else:\n",
    "            encryptedSentence += char\n",
    "    return encryptedSentence\n",
    "\n",
    "result = encrypt(sentence)\n",
    "\n",
    "print(\"The encrypted Sentence is : \", result)\n"
   ]
  },
  {
   "cell_type": "code",
   "execution_count": null,
   "id": "20e2f570-74a6-470f-9c81-3a12c8d8528c",
   "metadata": {},
   "outputs": [],
   "source": []
  }
 ],
 "metadata": {
  "kernelspec": {
   "display_name": "Python 3 (ipykernel)",
   "language": "python",
   "name": "python3"
  },
  "language_info": {
   "codemirror_mode": {
    "name": "ipython",
    "version": 3
   },
   "file_extension": ".py",
   "mimetype": "text/x-python",
   "name": "python",
   "nbconvert_exporter": "python",
   "pygments_lexer": "ipython3",
   "version": "3.10.8"
  }
 },
 "nbformat": 4,
 "nbformat_minor": 5
}
