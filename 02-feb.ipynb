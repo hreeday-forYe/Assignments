{
 "cells": [
  {
   "cell_type": "code",
   "execution_count": null,
   "id": "9fc82ab8-32fd-4362-b3a6-936fc900fa2c",
   "metadata": {},
   "outputs": [],
   "source": [
    "# QUESTION 1: Explain with an example each when to use a for loop and a while loop.\n",
    "\n",
    "for loop can be used when we want to iterate over some iterables in our program for eg when you want to print all the \n",
    "elements of the list, sets, tuples and even dictionaries. we can also use for loop using range function and generate list of the numbers \n",
    "and we can use those list of numbers as indexing or even as a operand for our operations.\n",
    "simple Example can be:\n",
    "l1 = [12,13,14]\n",
    "sum1 = 0\n",
    "for i in l1:\n",
    "    print(i)\n",
    "    sum1 = sum1 + i\n",
    "print(sum1)\n",
    "# The above code will print all the elements present in the l1 and find the sum of the elements in the list\n",
    "\n",
    "\n",
    "# While Loop\n",
    "While loop can be used when we want to execute some logic or operations based on specific conditions. We check the condtions and \n",
    "until the condition is True our code block inside the while loop will get executed. It is really useful when we want to do something \n",
    "repeatedly when the certain condition is true.\n",
    "Simple Example can be\n",
    "choice = True\n",
    "while choice:\n",
    "    user = input(\"do you wan to continue?\")\n",
    "    if user == \"no\":\n",
    "        choice = False\n",
    "    else:\n",
    "        continue\n",
    "# here the above code will execute continous until used says no when the users say No Code will stop the execution\n"
   ]
  },
  {
   "cell_type": "code",
   "execution_count": 1,
   "id": "480dae0c-c292-4b7e-99e2-68f881652f3b",
   "metadata": {},
   "outputs": [
    {
     "name": "stdout",
     "output_type": "stream",
     "text": [
      "1\n",
      "2\n",
      "3\n",
      "4\n",
      "5\n",
      "6\n",
      "7\n",
      "8\n",
      "9\n",
      "10\n"
     ]
    }
   ],
   "source": [
    "# QUESTION 2: Write a python program to print the sum and product of the first 10 natural numbers using for and while loop.\n",
    "\n",
    "# Using For loop\n",
    "for i in range(1,11):\n",
    "    print(i)\n"
   ]
  },
  {
   "cell_type": "code",
   "execution_count": 2,
   "id": "b8a90d85-7422-41f2-88ad-3e5c316a86fb",
   "metadata": {},
   "outputs": [
    {
     "name": "stdout",
     "output_type": "stream",
     "text": [
      "1\n",
      "2\n",
      "3\n",
      "4\n",
      "5\n",
      "6\n",
      "7\n",
      "8\n",
      "9\n",
      "10\n"
     ]
    }
   ],
   "source": [
    "# Using While Loop\n",
    "i = 1\n",
    "while (i<=10):\n",
    "    print(i)\n",
    "    i+=1;"
   ]
  },
  {
   "cell_type": "code",
   "execution_count": 7,
   "id": "8e161366-2a0c-4f3f-8d94-a8ba930cb097",
   "metadata": {},
   "outputs": [
    {
     "name": "stdin",
     "output_type": "stream",
     "text": [
      "Enter the units of Electricity Consumed 310\n"
     ]
    },
    {
     "name": "stdout",
     "output_type": "stream",
     "text": [
      "The total Electricity Bill of your household is Rs. 2250.0\n"
     ]
    }
   ],
   "source": [
    "# QUESTION: 3\n",
    "\n",
    "'''Create a python program to compute the electricity bill for a household.\n",
    " The per-unit charges in rupees are as follows: For the first 100 units, the user will be charged Rs. 4.5 per\n",
    " unit, for the next 100 units, the user will be charged Rs. 6 per unit, and for the next 100 units, the user will\n",
    " be charged Rs. 10 per unit, After 300 units and above the user will be charged Rs. 20 per unit.'''\n",
    "\n",
    "\n",
    "userUnits = int(input(\"Enter the units of Electricity Consumed\"))\n",
    "totalBill = 0;\n",
    "if userUnits <=100:\n",
    "    totalBill = userUnits * 4.5\n",
    "elif userUnits<=200:\n",
    "    totalBill = (100*4.5) + ((userUnits -100) * 6)\n",
    "elif userUnits<=300:\n",
    "    totalBill = (100 *4.5) + (100*6) + ((userUnits - 200) * 10)\n",
    "else:\n",
    "    totalBill = (100 *4.5) + (100*6) + (100 * 10) + ((userUnits - 300) *20)\n",
    "\n",
    "print(\"The total Electricity Bill of your household is Rs.\",totalBill)\n"
   ]
  },
  {
   "cell_type": "code",
   "execution_count": 14,
   "id": "29761248-a3be-489c-8890-42d61aebe1a7",
   "metadata": {},
   "outputs": [
    {
     "name": "stdout",
     "output_type": "stream",
     "text": [
      "List of numbers whose cube is divisible by 4 or 5\n",
      " [2, 4, 5, 6, 8, 10, 12, 14, 15, 16, 18, 20, 22, 24, 25, 26, 28, 30, 32, 34, 35, 36, 38, 40, 42, 44, 45, 46, 48, 50, 52, 54, 55, 56, 58, 60, 62, 64, 65, 66, 68, 70, 72, 74, 75, 76, 78, 80, 82, 84, 85, 86, 88, 90, 92, 94, 95, 96, 98, 100]\n"
     ]
    }
   ],
   "source": [
    "# QUESTION 4:\n",
    "'''\n",
    "Create a list of numbers from 1 to 100. Use for loop and while loop to calculate the cube of each\n",
    "number and if the cube of that number is divisible by 4 or 5 then append that number in a list and print\n",
    "that list.\n",
    "'''\n",
    "\n",
    "\n",
    "# Using for loop\n",
    "dividedList = []\n",
    "cube = 0\n",
    "for i in range(1,101):\n",
    "    cube = i * i* i\n",
    "    if (cube %4==0 or cube %5 ==0):\n",
    "        dividedList.append(i)\n",
    "\n",
    "# print(\"List of numbers from 1 to 100\", numList)\n",
    "print(\"List of numbers whose cube is divisible by 4 or 5\\n\", dividedList)\n",
    "    "
   ]
  },
  {
   "cell_type": "code",
   "execution_count": 1,
   "id": "b5ce9f77-6c23-49cf-869d-77e81c8edcb5",
   "metadata": {},
   "outputs": [
    {
     "name": "stdout",
     "output_type": "stream",
     "text": [
      "The list is:  [2, 4, 5, 6, 8, 10, 12, 14, 15, 16, 18, 20, 22, 24, 25, 26, 28, 30, 32, 34, 35, 36, 38, 40, 42, 44, 45, 46, 48, 50, 52, 54, 55, 56, 58, 60, 62, 64, 65, 66, 68, 70, 72, 74, 75, 76, 78, 80, 82, 84, 85, 86, 88, 90, 92, 94, 95, 96, 98, 100]\n"
     ]
    }
   ],
   "source": [
    "# Using while loop\n",
    "dividedList = []\n",
    "i = 1\n",
    "cube = 0\n",
    "while(i<=100):\n",
    "    cube = i * i * i\n",
    "    if(cube % 4 ==0 or cube %5==0):\n",
    "        dividedList.append(i)\n",
    "    i = i +1\n",
    "\n",
    "print(\"The list is: \", dividedList)"
   ]
  },
  {
   "cell_type": "code",
   "execution_count": 5,
   "id": "6427c486-a1bc-4ffe-9016-a836fb650310",
   "metadata": {},
   "outputs": [
    {
     "name": "stdout",
     "output_type": "stream",
     "text": [
      "The number of vowels present 12\n",
      "filtered vowels ['i', 'a', 'o', 'e', 'o', 'e', 'a', 'a', 'a', 'i', 'e', 'i']\n"
     ]
    }
   ],
   "source": [
    "# QUESTION 5\n",
    "'''\n",
    "Write a program to filter count vowels in the below-given string.\n",
    "string = \"I want to become a data scientist\"\n",
    "'''\n",
    "string = \"I want to become a data scientist\"\n",
    "count = 0\n",
    "filterList = []\n",
    "for i in string.lower():\n",
    "    if i in [\"a\",\"e\",\"i\",\"o\",\"u\"]:\n",
    "        count = count + 1\n",
    "        filterList.append(i)\n",
    "print(\"The number of vowels present\", count)\n",
    "print(\"filtered vowels\",filterList)"
   ]
  },
  {
   "cell_type": "code",
   "execution_count": null,
   "id": "c5bd65db-ff9d-43cb-ac22-4c75cd701a9f",
   "metadata": {},
   "outputs": [],
   "source": []
  }
 ],
 "metadata": {
  "kernelspec": {
   "display_name": "Python 3 (ipykernel)",
   "language": "python",
   "name": "python3"
  },
  "language_info": {
   "codemirror_mode": {
    "name": "ipython",
    "version": 3
   },
   "file_extension": ".py",
   "mimetype": "text/x-python",
   "name": "python",
   "nbconvert_exporter": "python",
   "pygments_lexer": "ipython3",
   "version": "3.10.8"
  }
 },
 "nbformat": 4,
 "nbformat_minor": 5
}
