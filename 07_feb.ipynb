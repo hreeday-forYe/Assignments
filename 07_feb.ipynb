{
 "cells": [
  {
   "cell_type": "code",
   "execution_count": 1,
   "id": "9c3a82aa-3942-4c47-805f-6654649f8dda",
   "metadata": {},
   "outputs": [
    {
     "name": "stdin",
     "output_type": "stream",
     "text": [
      "Enter your password:  HH@@@llss1\n"
     ]
    },
    {
     "name": "stdout",
     "output_type": "stream",
     "text": [
      "Valid Password\n"
     ]
    }
   ],
   "source": [
    "'''\n",
    "\n",
    "Q1. You are writing code for a company. The requirement of the company is that you create a python\n",
    "function that will check whether the password entered by the user is correct or not. The function should\n",
    "take the password as input and return the string “Valid Password” if the entered password follows the\n",
    "below-given password guidelines else it should return “Invalid Password”.\n",
    "Note: 1. The Password should contain at least two uppercase letters and at least two lowercase letters.\n",
    "2. The Password should contain at least a number and three special characters.\n",
    "3. The length of the password should be 10 characters long.\n",
    "\n",
    "'''\n",
    "def checkPassword(userPassword):\n",
    "    '''\n",
    "     This function takes the parameter password which is the password entered by the user \n",
    "     and this function will return \"valid password\" if the password follows the guidelines\n",
    "     and this function will return \"Invalid Password\" if the password doesnot follow the guidelines\n",
    "    '''\n",
    "    upper_count = 0 # To count the number of upper character in Password\n",
    "    lower_count = 0 # To count the number of lowe character in Password\n",
    "    num_count = 0 # To count the number of numeric character in Password\n",
    "    special_count = 0 # To cound the number of special characters in Password\n",
    "\n",
    "    if len(userPassword) != 10:\n",
    "#         This condition checks if the userPassword is not equal to 10 if so its returns Invalid Password message\n",
    "        return \"Invalid Password\"\n",
    "    else:\n",
    "#         Looping through the user password\n",
    "        for char in userPassword:\n",
    "#         Checking if the character is alphbetical or not \n",
    "            if char.isalpha():\n",
    "#         conditions to check if the characters are upper or lower if so incrementing the uppercount and lower count by 1 respectively\n",
    "                if char.isupper():\n",
    "                    upper_count = upper_count + 1\n",
    "                elif char.islower():\n",
    "                    lower_count = lower_count + 1\n",
    "#          Conditions to check if the character is numerica and if so incrementing by 1  to num_count variable\n",
    "            elif char.isnumeric():\n",
    "                num_count = num_count + 1\n",
    "#             Conditions to check if the character is neither numeric or aplhabetical if so increment by 1 to sepcial_count\n",
    "            elif not char.isalnum():\n",
    "                    special_count = special_count + 1\n",
    "#             Conditions to see if the guidelines meet here as \n",
    "        if upper_count >= 2 and lower_count >= 2 and num_count >= 1 and special_count >= 3:\n",
    "            return \"Valid Password\" ## This will return if the condition meeets\n",
    "        else:\n",
    "            print(num_count, upper_count, lower_count, special_count)\n",
    "            return \"Invalid Password\" ## else this will return \n",
    "\n",
    "\n",
    "userPassword = input(\"Enter your password: \")\n",
    "\n",
    "output = checkPassword(userPassword)\n",
    "print(output)\n"
   ]
  },
  {
   "cell_type": "code",
   "execution_count": 2,
   "id": "8cf8f465-4969-4a9e-be69-f347a63f689d",
   "metadata": {},
   "outputs": [],
   "source": [
    "# We can see if we provide the exaclty 10 characters long string with 2 uppercase letter and more than 2 lower case letter\n",
    "# and three special case characters and 1 number the function will return \"valid password\""
   ]
  },
  {
   "cell_type": "code",
   "execution_count": 2,
   "id": "29af6cad-25ad-463d-bd1e-7a3db492252e",
   "metadata": {},
   "outputs": [],
   "source": [
    "'''\n",
    "Q2. Solve the below-given questions using at least one of the following:\n",
    "1. Lambda function\n",
    "2. Filter function\n",
    "3. map function\n",
    "4. List Comprehension\n",
    "\n",
    "\n",
    "B Check if the string starts with a particular letter.\n",
    "B Check if the string is numericY\n",
    "B Sort a list of tuples having fruit names and their quantity. [(\"mango\",99),(\"orange\",80), (\"grapes\", 1000)-\n",
    "B Find the squares of numbers from 1 to 10Y\n",
    "B Find the cube root of numbers from 1 to 10Y\n",
    "B Check if a given number is evenY\n",
    "B Filter odd numbers from the given list.\n",
    "[1,2,3,4,5,6,7,8,9,10-\n",
    "B Sort a list of integers into positive and negative integers lists.\n",
    "[1,2,3,4,5,6,-1,-2,-3,-4,-5,0]\n",
    "\n",
    "'''"
   ]
  },
  {
   "cell_type": "code",
   "execution_count": 5,
   "id": "2b8ad867-4188-4f7a-94e0-a982e4474148",
   "metadata": {},
   "outputs": [
    {
     "name": "stdout",
     "output_type": "stream",
     "text": [
      "Does the string starts with letter b?:  True\n"
     ]
    }
   ],
   "source": [
    "# Check if the String starts with a particular letter \n",
    "\n",
    "# Using the lambda function\n",
    "check_letter = lambda given_string: given_string.startswith('b')\n",
    "# above lambda function checks if the string startswith letter b or not \n",
    "\n",
    "game = \"basketball\"\n",
    "game = game.lower()\n",
    "result = check_letter(game)\n",
    "\n",
    "print(\"Does the string starts with letter b?: \", result)"
   ]
  },
  {
   "cell_type": "code",
   "execution_count": 6,
   "id": "4302648d-b58a-4e1a-8677-9ed6dd4d2af3",
   "metadata": {},
   "outputs": [
    {
     "name": "stdout",
     "output_type": "stream",
     "text": [
      "Is the string numeric?  False\n"
     ]
    }
   ],
   "source": [
    "#  Check if the string is numeric\n",
    "given_string = \"123142#\"\n",
    "\n",
    "checkNumeric = lambda x : x.isnumeric()\n",
    "result = checkNumeric(given_string)\n",
    "print(\"Is the string numeric? \", result)"
   ]
  },
  {
   "cell_type": "code",
   "execution_count": 7,
   "id": "aa796fd9-c7e3-4250-ba69-5a01831bcc30",
   "metadata": {},
   "outputs": [
    {
     "name": "stdout",
     "output_type": "stream",
     "text": [
      "The sorted list is [('orange', 80), ('mango', 99), ('grapes', 1000)]\n"
     ]
    }
   ],
   "source": [
    "# Sort a list of tuples having fruit names and their quantity. [(\"mango\",99),(\"orange\",80), (\"grapes\", 1000)]\n",
    "\n",
    "given_list = [(\"mango\",99),(\"orange\",80), (\"grapes\", 1000)]\n",
    "\n",
    "sortedList = sorted(given_list, key= lambda x: x[1])\n",
    "\n",
    "print(f'The sorted list is {sortedList}')\n"
   ]
  },
  {
   "cell_type": "code",
   "execution_count": 9,
   "id": "525005b1-102c-44f5-8474-927e660e3332",
   "metadata": {},
   "outputs": [
    {
     "name": "stdout",
     "output_type": "stream",
     "text": [
      "The squared list is  [1, 4, 9, 16, 25, 36, 49, 64, 81, 100]\n"
     ]
    }
   ],
   "source": [
    "# Find the squares of numbers from 1 to 10\n",
    "\n",
    "squareList = lambda x: x **2 \n",
    "\n",
    "\n",
    "numberList = list(range(1, 11))\n",
    "newList = map(squareList, numberList)\n",
    "\n",
    "print(\"The squared list is \", list(newList))\n"
   ]
  },
  {
   "cell_type": "code",
   "execution_count": 13,
   "id": "04805ff6-28ee-4778-8c2d-a98c459db7fc",
   "metadata": {},
   "outputs": [
    {
     "name": "stdout",
     "output_type": "stream",
     "text": [
      "The cube root of the numbers are:\n",
      "1.0\n",
      "1.2599210498948732\n",
      "1.4422495703074083\n",
      "1.5874010519681994\n",
      "1.7099759466766968\n",
      "1.8171205928321397\n",
      "1.912931182772389\n",
      "2.0\n",
      "2.080083823051904\n",
      "2.154434690031884\n"
     ]
    }
   ],
   "source": [
    "# find the cube root of numbers from 1 to 10\n",
    "cubeList = lambda x : x ** (1/3)\n",
    "\n",
    "numberList = list(range(1, 11))\n",
    "newList = list(map(cubeList, numberList))\n",
    "\n",
    "print(\"The cube root of the numbers are:\")\n",
    "for i in newList:\n",
    "    print(i)\n"
   ]
  },
  {
   "cell_type": "code",
   "execution_count": 15,
   "id": "ca7c3b97-746f-466a-a685-44c121b1de1a",
   "metadata": {},
   "outputs": [
    {
     "name": "stdout",
     "output_type": "stream",
     "text": [
      "Is  the number even?  False\n"
     ]
    }
   ],
   "source": [
    "\n",
    "# Check if the given number is even\n",
    "\n",
    "checkEven = lambda x : x %2 == 0\n",
    "\n",
    "result = checkEven(11)\n",
    "print(\"Is  the number even? \",result)\n",
    "\n"
   ]
  },
  {
   "cell_type": "code",
   "execution_count": 16,
   "id": "ad901ec9-44e4-4063-8cd6-f3c8403cbaf6",
   "metadata": {},
   "outputs": [
    {
     "name": "stdout",
     "output_type": "stream",
     "text": [
      "The odd numbers in the list are :  [1, 3, 5, 7, 9]\n"
     ]
    }
   ],
   "source": [
    "\n",
    "# Filter odd numbers from the given list.\n",
    "# [1,2,3,4,5,6,7,8,9,10]\n",
    "\n",
    "findOdd = lambda x : x %2 != 0\n",
    "given_list =  [1,2,3,4,5,6,7,8,9,10]\n",
    "newList = filter(findOdd , given_list)\n",
    "\n",
    "print(\"The odd numbers in the list are : \", list(newList))\n"
   ]
  },
  {
   "cell_type": "code",
   "execution_count": 19,
   "id": "db56637d-7c49-45e9-abaa-bcdd7f44767d",
   "metadata": {},
   "outputs": [
    {
     "name": "stdout",
     "output_type": "stream",
     "text": [
      "The postive Integers list is  [1, 2, 3, 4, 5, 6]\n",
      "The negative Integers list is  [-1, -2, -3, -4, -5]\n"
     ]
    }
   ],
   "source": [
    "\n",
    "# B Sort a list of integers into positive and negative integers lists.\n",
    "\n",
    "\n",
    "givenList = [1,2,3,4,5,6,-1,-2,-3,-4,-5,0]\n",
    "\n",
    "postiveInt = [num for num in givenList if num > 0]\n",
    "negativeInt = [num for num in givenList if num < 0]\n",
    "\n",
    "print(\"The postive Integers list is \", postiveInt)\n",
    "print(\"The negative Integers list is \", negativeInt)"
   ]
  },
  {
   "cell_type": "code",
   "execution_count": null,
   "id": "bd10bc9b-88d6-4d6f-8fc3-16a266091e91",
   "metadata": {},
   "outputs": [],
   "source": []
  }
 ],
 "metadata": {
  "kernelspec": {
   "display_name": "Python 3 (ipykernel)",
   "language": "python",
   "name": "python3"
  },
  "language_info": {
   "codemirror_mode": {
    "name": "ipython",
    "version": 3
   },
   "file_extension": ".py",
   "mimetype": "text/x-python",
   "name": "python",
   "nbconvert_exporter": "python",
   "pygments_lexer": "ipython3",
   "version": "3.10.8"
  }
 },
 "nbformat": 4,
 "nbformat_minor": 5
}
