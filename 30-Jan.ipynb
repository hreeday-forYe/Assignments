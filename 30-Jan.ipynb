{
 "cells": [
  {
   "cell_type": "code",
   "execution_count": 6,
   "id": "a0ef2624-e679-4aa1-a54e-3de61130d36c",
   "metadata": {},
   "outputs": [
    {
     "name": "stdin",
     "output_type": "stream",
     "text": [
      "Enter your percentage 91\n"
     ]
    },
    {
     "name": "stdout",
     "output_type": "stream",
     "text": [
      "GRADE: A\n"
     ]
    }
   ],
   "source": [
    "# QUESTION 1: \n",
    "\n",
    "percent = float(input(\"Enter your percentage\"))\n",
    "if percent >90:\n",
    "    print(\"GRADE: A\")\n",
    "elif percent> 80 and percent <=90:\n",
    "    print(\"GRADE: B\")\n",
    "elif percent>=60 and percent<=80:\n",
    "    print(\"GRADE: C\")\n",
    "else:\n",
    "    print(\"GRADE: D\")"
   ]
  },
  {
   "cell_type": "code",
   "execution_count": 11,
   "id": "40e9ebcc-cf97-4fb3-afc3-be58532ee933",
   "metadata": {},
   "outputs": [
    {
     "name": "stdin",
     "output_type": "stream",
     "text": [
      "Enter the cost price of the Bike 120000\n"
     ]
    },
    {
     "name": "stdout",
     "output_type": "stream",
     "text": [
      "ROAD TAX: 15%\n"
     ]
    }
   ],
   "source": [
    "# QUESTION 2:\n",
    "\n",
    "cost = float(input(\"Enter the cost price of the Bike\" ))\n",
    "if cost > 100000:\n",
    "    print(\"ROAD TAX: 15%\")\n",
    "elif cost>50000 and cost <= 100000:\n",
    "    print(\"ROAD TAX:  10%\")\n",
    "else:\n",
    "    print(\"ROAD TAX: 5%\")"
   ]
  },
  {
   "cell_type": "code",
   "execution_count": 15,
   "id": "87cf1f24-5c60-4fcb-90be-402383b0d156",
   "metadata": {},
   "outputs": [
    {
     "name": "stdin",
     "output_type": "stream",
     "text": [
      "Enter the city:  AGRA\n"
     ]
    },
    {
     "name": "stdout",
     "output_type": "stream",
     "text": [
      "Taj Mahal\n"
     ]
    }
   ],
   "source": [
    "# QUESTION 3:\n",
    "\n",
    "city = input(\"Enter the city: \").lower()\n",
    "if city ==\"delhi\":\n",
    "    print(\"Red Fort\")\n",
    "elif city == \"agra\":\n",
    "    print(\"Taj Mahal\")\n",
    "elif city == \"jaipur\":\n",
    "    print(\"Jal Mahal\")\n",
    "else:\n",
    "    print(\"None\")"
   ]
  },
  {
   "cell_type": "code",
   "execution_count": 18,
   "id": "8a843849-e9fc-416d-8d88-ddbefa0ad8b7",
   "metadata": {},
   "outputs": [
    {
     "name": "stdin",
     "output_type": "stream",
     "text": [
      "Enter any number:  300\n"
     ]
    },
    {
     "name": "stdout",
     "output_type": "stream",
     "text": [
      "Number of times It can be divided by 3 before it is equal to or less than 10:  4\n"
     ]
    }
   ],
   "source": [
    "#QUESTION 4:\n",
    "\n",
    "num = int(input(\"Enter any number: \"))\n",
    "count = 0\n",
    "while(num >10):\n",
    "    num = num /3\n",
    "    count = count + 1\n",
    "print(\"Number of times It can be divided by 3 before it is equal to or less than 10: \",count)"
   ]
  },
  {
   "cell_type": "code",
   "execution_count": null,
   "id": "2bdd1825-cb8a-44c2-847f-3d45e46483b5",
   "metadata": {},
   "outputs": [],
   "source": [
    "# QUESTION 5\n",
    "\n",
    "We can use while loop if we want to keep executing the block of code until some conditions is made. It is used because it \n",
    "is one of the most effecitive way of writing code when there is chance of repeatation of the code. For example: when you are trying to \n",
    "print the numbers between one to 100 \n",
    "# One of the way may be:: \n",
    "\n",
    "    print(1)\n",
    "    print(2)\n",
    "    print(3)\n",
    "    .\n",
    "    .\n",
    "    print(100)\n",
    "The above way increases the line of our code and which makes us hard to debug our code if any complications occured in the future.\n",
    "\n",
    "# Using While Loop:\n",
    "\n",
    "i = 1;\n",
    "while(i<=100):\n",
    "    print(i)\n",
    "    i++\n",
    "    \n",
    "The above code is much easier to write and must faster then other code which is achieved using while loop\n",
    "hence, to reduce the space taken by our code and to follow the \"DRY(Don't repeat Yourself)\"  principle we must use while loop or loops in general."
   ]
  },
  {
   "cell_type": "code",
   "execution_count": 11,
   "id": "8c19d1e3-9330-449e-a300-d04b32413a00",
   "metadata": {},
   "outputs": [
    {
     "name": "stdout",
     "output_type": "stream",
     "text": [
      "*****\n",
      "****\n",
      "***\n",
      "**\n",
      "*\n"
     ]
    }
   ],
   "source": [
    "# QUESTION 6\n",
    "\n",
    "# Pattern 1:\n",
    "i = 5\n",
    "while i >= 1:\n",
    "    j = 1\n",
    "    while j <= i:\n",
    "        print('*', end='')\n",
    "        j += 1\n",
    "    print()\n",
    "    i -= 1\n",
    "\n"
   ]
  },
  {
   "cell_type": "code",
   "execution_count": 7,
   "id": "4e751bca-8a4d-4e50-a7b1-2da2cafa9ba5",
   "metadata": {},
   "outputs": [
    {
     "name": "stdout",
     "output_type": "stream",
     "text": [
      "1\n",
      "22\n",
      "333\n",
      "4444\n",
      "55555\n"
     ]
    }
   ],
   "source": [
    "# Pattern 2\n",
    "i = 1\n",
    "while i<=5:\n",
    "    j = 1\n",
    "    while j<=1:\n",
    "        print(\"*\",end=\"\")\n",
    "        j +=1\n",
    "    print()\n",
    "    i +=1"
   ]
  },
  {
   "cell_type": "code",
   "execution_count": 12,
   "id": "4b84620e-b087-457e-aed9-2814012570c9",
   "metadata": {},
   "outputs": [
    {
     "name": "stdout",
     "output_type": "stream",
     "text": [
      "*\n",
      "**\n",
      "***\n",
      "****\n",
      "*****\n"
     ]
    }
   ],
   "source": [
    "# Pattern 3\n",
    "i = 1\n",
    "while i <= 5:\n",
    "    j = 1\n",
    "    while j <= i:\n",
    "        print('*', end='')\n",
    "        j += 1\n",
    "    print()\n",
    "    i += 1"
   ]
  },
  {
   "cell_type": "code",
   "execution_count": 2,
   "id": "ecffab78-f332-4b4e-be9f-739231e5c671",
   "metadata": {},
   "outputs": [
    {
     "name": "stdout",
     "output_type": "stream",
     "text": [
      "10\n",
      "9\n",
      "8\n",
      "7\n",
      "6\n",
      "5\n",
      "4\n",
      "3\n",
      "2\n",
      "1\n"
     ]
    }
   ],
   "source": [
    "# QUESTION 7:\n",
    "i = 10\n",
    "while(i>=1):\n",
    "    print(i)\n",
    "    i-=1\n"
   ]
  },
  {
   "cell_type": "code",
   "execution_count": null,
   "id": "f4386299-3be0-410b-8a29-69091dd41d0b",
   "metadata": {},
   "outputs": [],
   "source": []
  }
 ],
 "metadata": {
  "kernelspec": {
   "display_name": "Python 3 (ipykernel)",
   "language": "python",
   "name": "python3"
  },
  "language_info": {
   "codemirror_mode": {
    "name": "ipython",
    "version": 3
   },
   "file_extension": ".py",
   "mimetype": "text/x-python",
   "name": "python",
   "nbconvert_exporter": "python",
   "pygments_lexer": "ipython3",
   "version": "3.10.8"
  }
 },
 "nbformat": 4,
 "nbformat_minor": 5
}
